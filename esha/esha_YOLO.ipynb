{
 "cells": [
  {
   "cell_type": "markdown",
   "metadata": {},
   "source": [
    "# YOLO v3"
   ]
  },
  {
   "cell_type": "markdown",
   "metadata": {},
   "source": [
    "## anchor box\n",
    "\n",
    "permasalahan dari object detection adalah ketika 2 buah objek berada pada posisi yang berdekatan dalam gambar.\\\n",
    "anchor box berguna untuk mendeteksi 2 objek yang berdekatan.\\\n",
    "pada YOLO, jumlah dan bentuk anchor box ditentukan di awal agar objek tadi bisa diberikan masing masing sebuah anchor box.\\\n",
    "variasi bentuk dari anchor box misalnya 4 kotak dengan variasi kotak horizontal dan vertikal dengan ukuran kecil dan besar.\n",
    "\n",
    "untuk menentukan ukuran dari anchor box, digunakan K-means algoritm"
   ]
  },
  {
   "cell_type": "markdown",
   "metadata": {},
   "source": [
    "## input dan output\n",
    "\n"
   ]
  },
  {
   "cell_type": "markdown",
   "metadata": {},
   "source": []
  }
 ],
 "metadata": {
  "kernelspec": {
   "display_name": "Python 3.8.10 ('coco1': venv)",
   "language": "python",
   "name": "python3"
  },
  "language_info": {
   "codemirror_mode": {
    "name": "ipython",
    "version": 3
   },
   "file_extension": ".py",
   "mimetype": "text/x-python",
   "name": "python",
   "nbconvert_exporter": "python",
   "pygments_lexer": "ipython3",
   "version": "3.8.10"
  },
  "orig_nbformat": 4,
  "vscode": {
   "interpreter": {
    "hash": "e0791f8f62d1c85021c12d8fdfdb917d0a8fc8089ac9a0ea18d455dbbb17da23"
   }
  }
 },
 "nbformat": 4,
 "nbformat_minor": 2
}
