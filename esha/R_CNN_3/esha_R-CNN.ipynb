{
 "cells": [
  {
   "cell_type": "markdown",
   "id": "74799cd7",
   "metadata": {},
   "source": [
    "# Membuat model R-CNN dari dataset"
   ]
  },
  {
   "cell_type": "code",
   "execution_count": null,
   "id": "dc5096e5",
   "metadata": {
    "execution": {
     "iopub.execute_input": "2022-07-12T02:41:13.693431Z",
     "iopub.status.busy": "2022-07-12T02:41:13.693098Z",
     "iopub.status.idle": "2022-07-12T02:41:19.458067Z",
     "shell.execute_reply": "2022-07-12T02:41:19.457111Z"
    },
    "papermill": {
     "duration": 5.778034,
     "end_time": "2022-07-12T02:41:19.460877",
     "exception": false,
     "start_time": "2022-07-12T02:41:13.682843",
     "status": "completed"
    },
    "tags": []
   },
   "outputs": [],
   "source": [
    "import numpy as np\n",
    "import pandas as pd\n",
    "import matplotlib.pyplot as plt\n",
    "import matplotlib.patches as patches\n",
    "from PIL import Image\n",
    "import cv2\n",
    "import os\n",
    "\n",
    "import tensorflow as tf\n",
    "import tensorflow_hub\n",
    "\n",
    "import warnings\n",
    "warnings.filterwarnings('ignore')\n",
    "\n",
    "from tensorflow.keras.preprocessing.image import load_img\n",
    "from tensorflow.keras.preprocessing.image import img_to_array\n",
    "from tensorflow.keras.preprocessing.image import array_to_img"
   ]
  },
  {
   "cell_type": "code",
   "execution_count": null,
   "id": "34e62d57",
   "metadata": {
    "execution": {
     "iopub.execute_input": "2022-07-12T02:41:19.481599Z",
     "iopub.status.busy": "2022-07-12T02:41:19.481029Z",
     "iopub.status.idle": "2022-07-12T02:41:21.374250Z",
     "shell.execute_reply": "2022-07-12T02:41:21.371909Z"
    },
    "papermill": {
     "duration": 1.906017,
     "end_time": "2022-07-12T02:41:21.376996",
     "exception": false,
     "start_time": "2022-07-12T02:41:19.470979",
     "status": "completed"
    },
    "tags": []
   },
   "outputs": [],
   "source": [
    "train_dir = '../../data/training_images_labeled-3/for_rcnn/'\n",
    "\n",
    "batch_size = 32\n",
    "target_size = (224, 224)\n",
    "\n",
    "train_datagen = tf.keras.preprocessing.image.ImageDataGenerator(rotation_range=0.2,\n",
    "                                                                brightness_range=[0.9,1.5],\n",
    "                                                                horizontal_flip=True,\n",
    "                                                                validation_split=0.2)\n",
    "\n",
    "test_datagen = tf.keras.preprocessing.image.ImageDataGenerator()\n",
    "\n",
    "train_generator = train_datagen.flow_from_directory(\n",
    "        train_dir,\n",
    "        class_mode='categorical',\n",
    "        color_mode='rgb',\n",
    "        target_size=target_size,\n",
    "        batch_size=batch_size,\n",
    "        subset='training')\n",
    "\n",
    "val_generator = train_datagen.flow_from_directory(\n",
    "        train_dir,\n",
    "        class_mode='categorical',\n",
    "        color_mode='rgb',\n",
    "        target_size=target_size,\n",
    "        batch_size=batch_size,\n",
    "        subset='validation',\n",
    "        shuffle=False)"
   ]
  },
  {
   "cell_type": "code",
   "execution_count": null,
   "id": "eb663020",
   "metadata": {
    "execution": {
     "iopub.execute_input": "2022-07-12T02:41:21.397538Z",
     "iopub.status.busy": "2022-07-12T02:41:21.397222Z",
     "iopub.status.idle": "2022-07-12T02:41:25.593090Z",
     "shell.execute_reply": "2022-07-12T02:41:25.592156Z"
    },
    "papermill": {
     "duration": 4.208645,
     "end_time": "2022-07-12T02:41:25.595456",
     "exception": false,
     "start_time": "2022-07-12T02:41:21.386811",
     "status": "completed"
    },
    "tags": []
   },
   "outputs": [],
   "source": [
    "base_model = tf.keras.applications.MobileNetV3Large(include_top=False,input_shape=(target_size[0], target_size[0], 3))\n",
    "base_model.trainable = False"
   ]
  },
  {
   "cell_type": "code",
   "execution_count": null,
   "id": "af023f4d",
   "metadata": {
    "execution": {
     "iopub.execute_input": "2022-07-12T02:41:25.617822Z",
     "iopub.status.busy": "2022-07-12T02:41:25.617485Z",
     "iopub.status.idle": "2022-07-12T02:41:25.997570Z",
     "shell.execute_reply": "2022-07-12T02:41:25.995188Z"
    },
    "papermill": {
     "duration": 0.393491,
     "end_time": "2022-07-12T02:41:25.999645",
     "exception": false,
     "start_time": "2022-07-12T02:41:25.606154",
     "status": "completed"
    },
    "tags": []
   },
   "outputs": [],
   "source": [
    "i = tf.keras.layers.Input([target_size[0], target_size[0], 3])\n",
    "x = tf.cast(i, tf.float32)\n",
    "x = tf.keras.applications.mobilenet_v3.preprocess_input(x)\n",
    "x = base_model(x)\n",
    "x = tf.keras.layers.Flatten()(x)\n",
    "x = tf.keras.layers.Dense(16, activation='relu')(x)\n",
    "x = tf.keras.layers.Dropout(0.3)(x)\n",
    "x = tf.keras.layers.Dense(16, activation='relu')(x)\n",
    "x = tf.keras.layers.Dropout(0.3)(x)\n",
    "x = tf.keras.layers.Dense(2, activation='softmax')(x)\n",
    "\n",
    "model = tf.keras.Model(inputs=i,outputs=x)\n",
    "model.summary()"
   ]
  },
  {
   "cell_type": "code",
   "execution_count": null,
   "id": "b7275b52",
   "metadata": {
    "execution": {
     "iopub.execute_input": "2022-07-12T02:41:26.020880Z",
     "iopub.status.busy": "2022-07-12T02:41:26.020568Z",
     "iopub.status.idle": "2022-07-12T02:55:24.733441Z",
     "shell.execute_reply": "2022-07-12T02:55:24.732307Z"
    },
    "papermill": {
     "duration": 838.726184,
     "end_time": "2022-07-12T02:55:24.735840",
     "exception": false,
     "start_time": "2022-07-12T02:41:26.009656",
     "status": "completed"
    },
    "tags": []
   },
   "outputs": [],
   "source": [
    "optimizer = tf.keras.optimizers.Adam(learning_rate=1e-4)\n",
    "# precision = tf.keras.metrics.Precision()\n",
    "# recall = tf.keras.metrics.Recall()\n",
    "# AUC = tf.keras.metrics.AUC()\n",
    "model.compile(loss = 'categorical_crossentropy', optimizer=optimizer,metrics=['accuracy'])\n",
    "\n",
    "early_stopping = tf.keras.callbacks.EarlyStopping(monitor='val_loss', min_delta=0, patience=3, restore_best_weights=True, verbose=0)\n",
    "reduceLRonplateau = tf.keras.callbacks.ReduceLROnPlateau(monitor='val_loss', factor=0.1, patience=1, verbose=0)\n",
    "checkpoint = tf.keras.callbacks.ModelCheckpoint('../../models/Esha_R_CNN_3.h5',save_format='h5', monitor='val_accuracy', save_best_only=True,verbose=0)\n",
    "\n",
    "tf.keras.backend.clear_session()\n",
    "\n",
    "history = model.fit(train_generator,validation_data = val_generator,epochs=200, callbacks=[early_stopping,checkpoint],verbose=1)"
   ]
  },
  {
   "cell_type": "code",
   "execution_count": null,
   "id": "73e3ccae",
   "metadata": {
    "execution": {
     "iopub.execute_input": "2022-07-12T02:55:24.894111Z",
     "iopub.status.busy": "2022-07-12T02:55:24.893773Z",
     "iopub.status.idle": "2022-07-12T02:55:25.271123Z",
     "shell.execute_reply": "2022-07-12T02:55:25.270259Z"
    },
    "papermill": {
     "duration": 0.459195,
     "end_time": "2022-07-12T02:55:25.273370",
     "exception": false,
     "start_time": "2022-07-12T02:55:24.814175",
     "status": "completed"
    },
    "tags": []
   },
   "outputs": [],
   "source": [
    "def plot_graphs(history, string):\n",
    "  plt.plot(history.history[string])\n",
    "  plt.plot(history.history['val_'+string])\n",
    "  plt.xlabel(\"Epochs\")\n",
    "  plt.ylabel(string)\n",
    "  plt.legend([string, 'val_'+string])\n",
    "  plt.show()\n",
    "  \n",
    "plot_graphs(history, \"accuracy\")\n",
    "plot_graphs(history, \"loss\")"
   ]
  },
  {
   "cell_type": "code",
   "execution_count": null,
   "id": "3f781f47",
   "metadata": {},
   "outputs": [],
   "source": [
    "base_model.trainable = True\n",
    "model.summary()\n",
    "model.compile(loss = 'categorical_crossentropy', optimizer=tf.keras.optimizers.Adam(learning_rate=1e-5),metrics=['accuracy'])\n",
    "model.fit(train_generator,validation_data = val_generator,epochs=10, callbacks=[checkpoint],verbose=1)"
   ]
  },
  {
   "cell_type": "code",
   "execution_count": null,
   "id": "ef2d8f9f",
   "metadata": {
    "execution": {
     "iopub.execute_input": "2022-07-12T02:55:25.434325Z",
     "iopub.status.busy": "2022-07-12T02:55:25.433986Z",
     "iopub.status.idle": "2022-07-12T02:55:34.318455Z",
     "shell.execute_reply": "2022-07-12T02:55:34.317409Z"
    },
    "papermill": {
     "duration": 8.968714,
     "end_time": "2022-07-12T02:55:34.321718",
     "exception": false,
     "start_time": "2022-07-12T02:55:25.353004",
     "status": "completed"
    },
    "tags": []
   },
   "outputs": [],
   "source": [
    "model_best = tf.keras.models.load_model('../../models/Esha_R_CNN_3.h5')"
   ]
  },
  {
   "cell_type": "code",
   "execution_count": null,
   "id": "f16caa8b",
   "metadata": {
    "execution": {
     "iopub.execute_input": "2022-07-12T02:55:34.485826Z",
     "iopub.status.busy": "2022-07-12T02:55:34.485477Z",
     "iopub.status.idle": "2022-07-12T02:56:22.055219Z",
     "shell.execute_reply": "2022-07-12T02:56:22.054282Z"
    },
    "papermill": {
     "duration": 47.736797,
     "end_time": "2022-07-12T02:56:22.140760",
     "exception": false,
     "start_time": "2022-07-12T02:55:34.403963",
     "status": "completed"
    },
    "tags": []
   },
   "outputs": [],
   "source": [
    "test_files = tf.io.gfile.glob('../../data/testing_images/*.jpg')\n",
    "\n",
    "ss = cv2.ximgproc.segmentation.createSelectiveSearchSegmentation()\n",
    "max_proposed_boxes = 2000\n",
    "\n",
    "i = '../../data/testing_images/vid_5_26720.jpg'\n",
    "filename = i.split('/')[-1]\n",
    "print(filename)\n",
    "\n",
    "counter = 0\n",
    "    \n",
    "img = load_img(i)\n",
    "normalized_img_array = img_to_array(img)\n",
    "\n",
    "ss.setBaseImage(img_to_array(img))\n",
    "ss.switchToSelectiveSearchFast()\n",
    "rects = ss.process()\n",
    "\n",
    "car_boxes = []\n",
    "probas = []\n",
    "\n",
    "for (x, y, w, h) in rects:\n",
    "\n",
    "    if counter <= max_proposed_boxes:\n",
    "        counter += 1\n",
    "        filename_box = filename\n",
    "        proposed_box = [x, y, x + w, y + h]\n",
    "\n",
    "        image_array = normalized_img_array[proposed_box[1]:proposed_box[3],proposed_box[0]:proposed_box[2]]\n",
    "        image_array = cv2.resize(image_array,target_size)\n",
    "\n",
    "        predicted = model_best.predict(image_array.reshape(1,target_size[0],target_size[0],3), verbose=0)\n",
    "\n",
    "        if np.argmax(predicted) == 1 and predicted[0][1] >= 0.9:\n",
    "            car_boxes.append([y, x, y + h, x + w])\n",
    "            probas.append(predicted[0][1])\n",
    "\n",
    "img_w, img_h = 676, 380\n",
    "\n",
    "im = Image.open(i)\n",
    "fig, ax = plt.subplots()\n",
    "ax.imshow(im)\n",
    "\n",
    "try:\n",
    "    selected_indices = tf.image.non_max_suppression(car_boxes, probas, 100, iou_threshold=0.0)\n",
    "    selected_boxes = tf.gather(car_boxes, selected_indices)\n",
    "    for i in selected_boxes:\n",
    "        ymin, xmin, ymax, xmax = i[0], i[1], i[2], i[3]\n",
    "        rect = patches.Rectangle((xmin, ymin), xmax-xmin, ymax-ymin, linewidth=1, edgecolor='r', facecolor='none')\n",
    "        ax.add_patch(rect)\n",
    "except:\n",
    "    pass\n",
    "plt.show()"
   ]
  }
 ],
 "metadata": {
  "kernelspec": {
   "display_name": "Python 3.8.10 ('coco1': venv)",
   "language": "python",
   "name": "python3"
  },
  "language_info": {
   "codemirror_mode": {
    "name": "ipython",
    "version": 3
   },
   "file_extension": ".py",
   "mimetype": "text/x-python",
   "name": "python",
   "nbconvert_exporter": "python",
   "pygments_lexer": "ipython3",
   "version": "3.8.10"
  },
  "papermill": {
   "default_parameters": {},
   "duration": 939.782756,
   "end_time": "2022-07-12T02:56:25.256028",
   "environment_variables": {},
   "exception": null,
   "input_path": "__notebook__.ipynb",
   "output_path": "__notebook__.ipynb",
   "parameters": {},
   "start_time": "2022-07-12T02:40:45.473272",
   "version": "2.3.4"
  },
  "vscode": {
   "interpreter": {
    "hash": "e0791f8f62d1c85021c12d8fdfdb917d0a8fc8089ac9a0ea18d455dbbb17da23"
   }
  }
 },
 "nbformat": 4,
 "nbformat_minor": 5
}
